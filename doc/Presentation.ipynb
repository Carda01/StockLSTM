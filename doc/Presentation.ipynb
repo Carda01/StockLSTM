{
 "cells": [
  {
   "cell_type": "markdown",
   "id": "73281e42-c455-49fa-9582-5d24794e8238",
   "metadata": {
    "slideshow": {
     "slide_type": "slide"
    }
   },
   "source": [
    "# Stonks!\n",
    "## A realtime stocks analyzer.\n",
    "\n",
    "Coded by **Alfio Cardillo**\n",
    "<br>\n",
    "For the subject **\"Technologies for Advanced Programming\"**\n",
    "<br>\n",
    "University of **Catania**, Department of Mathematics and Computer Science. **13 June 2023**"
   ]
  },
  {
   "cell_type": "markdown",
   "id": "a0ea839d-50c7-4e50-bdfa-8ec1b182ef76",
   "metadata": {
    "slideshow": {
     "slide_type": "slide"
    }
   },
   "source": [
    "# What is it?\n",
    "This project consists in a realtime stocks analyzer of the three most valued stocks in the market right now. (June 2023). Which are Apple (**AAPL**), Alphabet Inc. (**GOOGL**) and Microsoft (**MSFT**).\n",
    "<br>\n",
    "\n",
    "<div>\n",
    "<img src=\"images/logos.png\" width=\"800\"/>\n",
    "</div>\n",
    "   "
   ]
  },
  {
   "cell_type": "markdown",
   "id": "219795b8",
   "metadata": {
    "slideshow": {
     "slide_type": "slide"
    }
   },
   "source": [
    "# The structure\n",
    "The pipeline consists in a variety of technologies that are all dockerized into **small micro-services** that communicates between one another thanks to **docker networks**.\n",
    "<br><br>\n",
    "Some time was spent in optimizing the containers by both choosing when possible an **official image** for that technology and the **smallest version**."
   ]
  },
  {
   "cell_type": "markdown",
   "id": "a372d3ef",
   "metadata": {
    "slideshow": {
     "slide_type": "subslide"
    }
   },
   "source": [
    "<div>\n",
    "<img src=\"images/pipeline.png\" width=\"1000\"/>\n",
    "</div>"
   ]
  },
  {
   "cell_type": "markdown",
   "id": "e740f20f",
   "metadata": {
    "slideshow": {
     "slide_type": "slide"
    }
   },
   "source": [
    "# Script\n",
    "A python script downloads the data from [Alpha Vantage](https://www.alphavantage.co/) for the three symbols, then internally it creates a **timeline** and arranges all events on it based on the time they have in the record. \n",
    "<br><br>\n",
    "Lastly it creates an **internal timer** and when the time arrives at a point in the timeline where an event happened it sends that event to Fluentbit with an HTTP request on Fluentbit's port **9880**."
   ]
  },
  {
   "cell_type": "markdown",
   "id": "368ad401",
   "metadata": {
    "slideshow": {
     "slide_type": "subslide"
    }
   },
   "source": [
    "## Why AlphaVantage and Python?\n",
    "- It is **hard to find realtime data** in the stock market that are **free to use**\n",
    "- Easy language that gives especially for these low resource demanding task an easy and great solution"
   ]
  },
  {
   "cell_type": "markdown",
   "id": "d716b9c1",
   "metadata": {
    "slideshow": {
     "slide_type": "slide"
    }
   },
   "source": [
    "# Fluentbit\n",
    "Fluentbit receives the data from python and **parse** it by extracting the **event time** and converting it into a **Unix Timestamp**\n",
    "<div>\n",
    "<img src=\"images/parse.png\" width=\"500\"/>\n",
    "</div>"
   ]
  },
  {
   "cell_type": "markdown",
   "id": "a2725cc2",
   "metadata": {
    "slideshow": {
     "slide_type": "subslide"
    }
   },
   "source": [
    "# Why Fluentbit\n",
    "- **Smaller** and **faster** than other ingestion methods\n",
    "- Still an easy syntax \n",
    "<div>\n",
    "<img src=\"images/fluentlogstash.jpg\" width=\"300\"/>\n",
    "</div>"
   ]
  },
  {
   "cell_type": "markdown",
   "id": "511e965b",
   "metadata": {
    "slideshow": {
     "slide_type": "fragment"
    }
   },
   "source": [
    "# Difficulties\n",
    "- The **documentation** is **not very clear** on how to parse data"
   ]
  },
  {
   "cell_type": "markdown",
   "id": "3f5261de",
   "metadata": {
    "slideshow": {
     "slide_type": "slide"
    }
   },
   "source": [
    "# Kafka\n",
    "<div>\n",
    "<img src=\"images/nozookeeper.gif\" width=\"100\"/>\n",
    "</div>\n",
    "\n"
   ]
  },
  {
   "cell_type": "markdown",
   "id": "573ccd4c",
   "metadata": {
    "slideshow": {
     "slide_type": "slide"
    }
   },
   "source": [
    "# Spark"
   ]
  },
  {
   "cell_type": "markdown",
   "id": "261a8285",
   "metadata": {
    "slideshow": {
     "slide_type": "slide"
    }
   },
   "source": [
    "# Elastic Search\n"
   ]
  },
  {
   "cell_type": "markdown",
   "id": "76ea6324",
   "metadata": {},
   "source": [
    "## Why\n",
    "<div>\n",
    "<img src=\"images/kibanaelastic.jpg\", width=\"300\">\n",
    "</div>"
   ]
  },
  {
   "cell_type": "markdown",
   "id": "5969aba0",
   "metadata": {
    "slideshow": {
     "slide_type": "slide"
    }
   },
   "source": [
    "# Kibana\n"
   ]
  },
  {
   "cell_type": "markdown",
   "id": "22752291",
   "metadata": {
    "slideshow": {
     "slide_type": "slide"
    }
   },
   "source": [
    "## Why\n",
    "- Ease of use"
   ]
  }
 ],
 "metadata": {
  "celltoolbar": "Slideshow",
  "kernelspec": {
   "display_name": "Python 3 (ipykernel)",
   "language": "python",
   "name": "python3"
  },
  "language_info": {
   "codemirror_mode": {
    "name": "ipython",
    "version": 3
   },
   "file_extension": ".py",
   "mimetype": "text/x-python",
   "name": "python",
   "nbconvert_exporter": "python",
   "pygments_lexer": "ipython3",
   "version": "3.9.13"
  }
 },
 "nbformat": 4,
 "nbformat_minor": 5
}
