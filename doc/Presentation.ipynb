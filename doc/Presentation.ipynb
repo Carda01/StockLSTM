{
 "cells": [
  {
   "cell_type": "markdown",
   "id": "73281e42-c455-49fa-9582-5d24794e8238",
   "metadata": {
    "slideshow": {
     "slide_type": "slide"
    }
   },
   "source": [
    "# Stonks!\n",
    "## A realtime stocks analyzer.\n",
    "\n",
    "Coded by **Alfio Cardillo**\n",
    "<br>\n",
    "For the subject **\"Technologies for Advanced Programming\"**\n",
    "<br>\n",
    "University of **Catania**, Department of Mathematics and Computer Science. **13 June 2023**"
   ]
  },
  {
   "cell_type": "markdown",
   "id": "a0ea839d-50c7-4e50-bdfa-8ec1b182ef76",
   "metadata": {
    "slideshow": {
     "slide_type": "slide"
    }
   },
   "source": [
    "# What is it?\n",
    "This project consists in a realtime stocks analyzer of the three most valued stocks in the market right now. (June 2023). Which are Apple (AAPL), Alphabet (GOOGL) and Microsoft (MSFT).\n",
    "<br>\n",
    "\n",
    "![logos](images/logos.png)\n",
    "   "
   ]
  },
  {
   "cell_type": "markdown",
   "id": "219795b8",
   "metadata": {
    "slideshow": {
     "slide_type": "subslide"
    }
   },
   "source": [
    "# The structure"
   ]
  },
  {
   "cell_type": "markdown",
   "id": "e740f20f",
   "metadata": {
    "slideshow": {
     "slide_type": "slide"
    }
   },
   "source": [
    "# Script"
   ]
  },
  {
   "cell_type": "markdown",
   "id": "d716b9c1",
   "metadata": {
    "slideshow": {
     "slide_type": "slide"
    }
   },
   "source": [
    "# Fluentbit"
   ]
  },
  {
   "cell_type": "markdown",
   "id": "3f5261de",
   "metadata": {
    "slideshow": {
     "slide_type": "slide"
    }
   },
   "source": [
    "# Kafka"
   ]
  },
  {
   "cell_type": "markdown",
   "id": "573ccd4c",
   "metadata": {
    "slideshow": {
     "slide_type": "slide"
    }
   },
   "source": [
    "# Spark"
   ]
  },
  {
   "cell_type": "markdown",
   "id": "261a8285",
   "metadata": {
    "slideshow": {
     "slide_type": "slide"
    }
   },
   "source": [
    "# Elastic Search"
   ]
  },
  {
   "cell_type": "markdown",
   "id": "5969aba0",
   "metadata": {
    "slideshow": {
     "slide_type": "slide"
    }
   },
   "source": [
    "# Kibana"
   ]
  }
 ],
 "metadata": {
  "celltoolbar": "Slideshow",
  "kernelspec": {
   "display_name": "Python 3 (ipykernel)",
   "language": "python",
   "name": "python3"
  },
  "language_info": {
   "codemirror_mode": {
    "name": "ipython",
    "version": 3
   },
   "file_extension": ".py",
   "mimetype": "text/x-python",
   "name": "python",
   "nbconvert_exporter": "python",
   "pygments_lexer": "ipython3",
   "version": "3.9.13"
  }
 },
 "nbformat": 4,
 "nbformat_minor": 5
}
