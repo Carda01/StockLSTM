{
 "cells": [
  {
   "cell_type": "markdown",
   "id": "73281e42-c455-49fa-9582-5d24794e8238",
   "metadata": {
    "slideshow": {
     "slide_type": "slide"
    }
   },
   "source": [
    "# Stonks!\n",
    "## A realtime stocks analyzer.\n",
    "\n",
    "Coded by **Alfio Cardillo**\n",
    "<br>\n",
    "For the subject **\"Technologies for Advanced Programming\"**\n",
    "<br>\n",
    "University of **Catania**, Department of Mathematics and Computer Science. **13 June 2023**"
   ]
  },
  {
   "cell_type": "markdown",
   "id": "a0ea839d-50c7-4e50-bdfa-8ec1b182ef76",
   "metadata": {
    "slideshow": {
     "slide_type": "slide"
    }
   },
   "source": [
    "# What is it?\n",
    "This project consists in a realtime stocks analyzer of the three most valued stocks in the market right now. (June 2023). Which are Apple (**AAPL**), Alphabet Inc. (**GOOGL**) and Microsoft (**MSFT**).\n",
    "<br>\n",
    "\n",
    "<div>\n",
    "<img src=\"images/logos.png\" width=\"800\"/>\n",
    "</div>\n",
    "   "
   ]
  },
  {
   "cell_type": "markdown",
   "id": "219795b8",
   "metadata": {
    "slideshow": {
     "slide_type": "slide"
    }
   },
   "source": [
    "# The structure\n",
    "The pipeline consists in a variety of technologies that are all dockerized into **small micro-services** that communicates between one another thanks to **docker networks**.\n",
    "<br><br>\n",
    "Some time was spent in optimizing the containers by both choosing when possible an **official image** for that technology and the **smallest version**."
   ]
  },
  {
   "cell_type": "markdown",
   "id": "a372d3ef",
   "metadata": {
    "slideshow": {
     "slide_type": "subslide"
    }
   },
   "source": [
    "<div>\n",
    "<img src=\"images/pipeline.png\" width=\"1000\"/>\n",
    "</div>"
   ]
  },
  {
   "cell_type": "markdown",
   "id": "7d81a0e3",
   "metadata": {
    "slideshow": {
     "slide_type": "slide"
    }
   },
   "source": [
    "# Input\n"
   ]
  },
  {
   "cell_type": "code",
   "execution_count": 14,
   "id": "cab7f74f",
   "metadata": {
    "hideCode": true,
    "hidePrompt": true,
    "slideshow": {
     "slide_type": "fragment"
    }
   },
   "outputs": [
    {
     "data": {
      "text/html": [
       "<pre style=\"white-space:pre;overflow-x:auto;line-height:normal;font-family:Menlo,'DejaVu Sans Mono',consolas,'Courier New',monospace\"><span style=\"font-weight: bold\">{</span>\n",
       "  <span style=\"color: #000080; text-decoration-color: #000080; font-weight: bold\">\"Meta Data\"</span>: <span style=\"font-weight: bold\">{</span>\n",
       "    <span style=\"color: #000080; text-decoration-color: #000080; font-weight: bold\">\"1. Information\"</span>: <span style=\"color: #008000; text-decoration-color: #008000\">\"Intraday (5min) open, high, low, close prices and volume\"</span>,\n",
       "    <span style=\"color: #000080; text-decoration-color: #000080; font-weight: bold\">\"2. Symbol\"</span>: <span style=\"color: #008000; text-decoration-color: #008000\">\"AAPL\"</span>,\n",
       "    <span style=\"color: #000080; text-decoration-color: #000080; font-weight: bold\">\"3. Last Refreshed\"</span>: <span style=\"color: #008000; text-decoration-color: #008000\">\"2023-06-09 19:55:00\"</span>,\n",
       "    <span style=\"color: #000080; text-decoration-color: #000080; font-weight: bold\">\"4. Interval\"</span>: <span style=\"color: #008000; text-decoration-color: #008000\">\"5min\"</span>,\n",
       "    <span style=\"color: #000080; text-decoration-color: #000080; font-weight: bold\">\"5. Output Size\"</span>: <span style=\"color: #008000; text-decoration-color: #008000\">\"Compact\"</span>,\n",
       "    <span style=\"color: #000080; text-decoration-color: #000080; font-weight: bold\">\"6. Time Zone\"</span>: <span style=\"color: #008000; text-decoration-color: #008000\">\"US/Eastern\"</span>\n",
       "  <span style=\"font-weight: bold\">}</span>,\n",
       "  <span style=\"color: #000080; text-decoration-color: #000080; font-weight: bold\">\"Time Series (5min)\"</span>: <span style=\"font-weight: bold\">{</span>\n",
       "    <span style=\"color: #000080; text-decoration-color: #000080; font-weight: bold\">\"2023-06-09 19:55:00\"</span>: <span style=\"font-weight: bold\">{</span>\n",
       "      <span style=\"color: #000080; text-decoration-color: #000080; font-weight: bold\">\"1. open\"</span>: <span style=\"color: #008000; text-decoration-color: #008000\">\"180.7800\"</span>,\n",
       "      <span style=\"color: #000080; text-decoration-color: #000080; font-weight: bold\">\"2. high\"</span>: <span style=\"color: #008000; text-decoration-color: #008000\">\"180.8700\"</span>,\n",
       "      <span style=\"color: #000080; text-decoration-color: #000080; font-weight: bold\">\"3. low\"</span>: <span style=\"color: #008000; text-decoration-color: #008000\">\"180.7700\"</span>,\n",
       "      <span style=\"color: #000080; text-decoration-color: #000080; font-weight: bold\">\"4. close\"</span>: <span style=\"color: #008000; text-decoration-color: #008000\">\"180.8100\"</span>,\n",
       "      <span style=\"color: #000080; text-decoration-color: #000080; font-weight: bold\">\"5. volume\"</span>: <span style=\"color: #008000; text-decoration-color: #008000\">\"3131\"</span>\n",
       "    <span style=\"font-weight: bold\">}</span>,\n",
       "    <span style=\"color: #000080; text-decoration-color: #000080; font-weight: bold\">\"2023-06-09 19:50:00\"</span>: <span style=\"font-weight: bold\">{</span>\n",
       "      <span style=\"color: #000080; text-decoration-color: #000080; font-weight: bold\">\"1. open\"</span>: <span style=\"color: #008000; text-decoration-color: #008000\">\"180.7900\"</span>,\n",
       "      <span style=\"color: #000080; text-decoration-color: #000080; font-weight: bold\">\"2. high\"</span>: <span style=\"color: #008000; text-decoration-color: #008000\">\"180.8000\"</span>,\n",
       "      <span style=\"color: #000080; text-decoration-color: #000080; font-weight: bold\">\"3. low\"</span>: <span style=\"color: #008000; text-decoration-color: #008000\">\"180.7700\"</span>,\n",
       "      <span style=\"color: #000080; text-decoration-color: #000080; font-weight: bold\">\"4. close\"</span>: <span style=\"color: #008000; text-decoration-color: #008000\">\"180.7700\"</span>,\n",
       "      <span style=\"color: #000080; text-decoration-color: #000080; font-weight: bold\">\"5. volume\"</span>: <span style=\"color: #008000; text-decoration-color: #008000\">\"1178\"</span>\n",
       "    <span style=\"font-weight: bold\">}</span>\n",
       "  <span style=\"font-weight: bold\">}</span>\n",
       "<span style=\"font-weight: bold\">}</span>\n",
       "</pre>\n"
      ],
      "text/plain": [
       "\u001b[1m{\u001b[0m\n",
       "  \u001b[1;34m\"Meta Data\"\u001b[0m: \u001b[1m{\u001b[0m\n",
       "    \u001b[1;34m\"1. Information\"\u001b[0m: \u001b[32m\"Intraday (5min) open, high, low, close prices and volume\"\u001b[0m,\n",
       "    \u001b[1;34m\"2. Symbol\"\u001b[0m: \u001b[32m\"AAPL\"\u001b[0m,\n",
       "    \u001b[1;34m\"3. Last Refreshed\"\u001b[0m: \u001b[32m\"2023-06-09 19:55:00\"\u001b[0m,\n",
       "    \u001b[1;34m\"4. Interval\"\u001b[0m: \u001b[32m\"5min\"\u001b[0m,\n",
       "    \u001b[1;34m\"5. Output Size\"\u001b[0m: \u001b[32m\"Compact\"\u001b[0m,\n",
       "    \u001b[1;34m\"6. Time Zone\"\u001b[0m: \u001b[32m\"US/Eastern\"\u001b[0m\n",
       "  \u001b[1m}\u001b[0m,\n",
       "  \u001b[1;34m\"Time Series (5min)\"\u001b[0m: \u001b[1m{\u001b[0m\n",
       "    \u001b[1;34m\"2023-06-09 19:55:00\"\u001b[0m: \u001b[1m{\u001b[0m\n",
       "      \u001b[1;34m\"1. open\"\u001b[0m: \u001b[32m\"180.7800\"\u001b[0m,\n",
       "      \u001b[1;34m\"2. high\"\u001b[0m: \u001b[32m\"180.8700\"\u001b[0m,\n",
       "      \u001b[1;34m\"3. low\"\u001b[0m: \u001b[32m\"180.7700\"\u001b[0m,\n",
       "      \u001b[1;34m\"4. close\"\u001b[0m: \u001b[32m\"180.8100\"\u001b[0m,\n",
       "      \u001b[1;34m\"5. volume\"\u001b[0m: \u001b[32m\"3131\"\u001b[0m\n",
       "    \u001b[1m}\u001b[0m,\n",
       "    \u001b[1;34m\"2023-06-09 19:50:00\"\u001b[0m: \u001b[1m{\u001b[0m\n",
       "      \u001b[1;34m\"1. open\"\u001b[0m: \u001b[32m\"180.7900\"\u001b[0m,\n",
       "      \u001b[1;34m\"2. high\"\u001b[0m: \u001b[32m\"180.8000\"\u001b[0m,\n",
       "      \u001b[1;34m\"3. low\"\u001b[0m: \u001b[32m\"180.7700\"\u001b[0m,\n",
       "      \u001b[1;34m\"4. close\"\u001b[0m: \u001b[32m\"180.7700\"\u001b[0m,\n",
       "      \u001b[1;34m\"5. volume\"\u001b[0m: \u001b[32m\"1178\"\u001b[0m\n",
       "    \u001b[1m}\u001b[0m\n",
       "  \u001b[1m}\u001b[0m\n",
       "\u001b[1m}\u001b[0m\n"
      ]
     },
     "metadata": {},
     "output_type": "display_data"
    }
   ],
   "source": [
    "import json, rich\n",
    "data = {\n",
    "    \"Meta Data\": {\"1. Information\": \"Intraday (5min) open, high, low, close prices and volume\", \"2. Symbol\": \"AAPL\", \"3. Last Refreshed\": \"2023-06-09 19:55:00\", \"4. Interval\": \"5min\", \"5. Output Size\": \"Compact\", \"6. Time Zone\": \"US/Eastern\"},\n",
    "    \"Time Series (5min)\": {\"2023-06-09 19:55:00\": {\"1. open\": \"180.7800\", \"2. high\": \"180.8700\", \"3. low\": \"180.7700\", \"4. close\": \"180.8100\", \"5. volume\": \"3131\"}, \"2023-06-09 19:50:00\": {\"1. open\": \"180.7900\", \"2. high\": \"180.8000\", \"3. low\": \"180.7700\", \"4. close\": \"180.7700\", \"5. volume\": \"1178\"}}\n",
    "}\n",
    "rich.print_json(json.dumps(data, indent=2))"
   ]
  },
  {
   "cell_type": "markdown",
   "id": "e740f20f",
   "metadata": {
    "slideshow": {
     "slide_type": "slide"
    }
   },
   "source": [
    "# Script\n",
    "A python script downloads the data from [Alpha Vantage](https://www.alphavantage.co/) for the three symbols, then internally it creates a **timeline** and arranges all events on it based on the time they have in the record. \n",
    "<br><br>\n",
    "Lastly it creates an **internal timer** and when the time arrives at a point in the timeline where an event happened it sends that event to Fluentbit with an HTTP request on Fluentbit's port **9880**."
   ]
  },
  {
   "cell_type": "markdown",
   "id": "368ad401",
   "metadata": {
    "slideshow": {
     "slide_type": "subslide"
    }
   },
   "source": [
    "## Why\n",
    "- It is **hard to find realtime data** in the stock market that are **free to use**\n",
    "- Easy language that gives especially for these low resource demanding task an easy and great solution"
   ]
  },
  {
   "cell_type": "markdown",
   "id": "d716b9c1",
   "metadata": {
    "slideshow": {
     "slide_type": "slide"
    }
   },
   "source": [
    "# Fluentbit\n",
    "Fluentbit receives the data from python and **parse** it by extracting the **event time** and converting it into a **Unix Timestamp**\n",
    "<div>\n",
    "<img src=\"images/parse.png\" width=\"500\"/>\n",
    "</div>"
   ]
  },
  {
   "cell_type": "markdown",
   "id": "a2725cc2",
   "metadata": {
    "slideshow": {
     "slide_type": "subslide"
    }
   },
   "source": [
    "# Why Fluentbit\n",
    "- **Smaller** and **faster** than other ingestion methods\n",
    "- Still an easy syntax \n",
    "<div>\n",
    "<img src=\"images/fluentlogstash.jpg\" width=\"300\"/>\n",
    "</div>"
   ]
  },
  {
   "cell_type": "markdown",
   "id": "511e965b",
   "metadata": {
    "slideshow": {
     "slide_type": "fragment"
    }
   },
   "source": [
    "# Difficulties\n",
    "- The **documentation** is **not very clear** on how to parse data"
   ]
  },
  {
   "cell_type": "markdown",
   "id": "3f5261de",
   "metadata": {
    "slideshow": {
     "slide_type": "slide"
    }
   },
   "source": [
    "# Kafka\n",
    "Kafka was choosed as our **Data Streaming** tool, passing all the data received from **Fluentbit** to the next component, **Spark**.\n",
    "<br><br>\n",
    "This micro-service uses an image that allows to use **KRaft** instead of managing **Kafka**'s nodes with **Zookeeper**."
   ]
  },
  {
   "cell_type": "markdown",
   "id": "fe395c89",
   "metadata": {
    "slideshow": {
     "slide_type": "subslide"
    }
   },
   "source": [
    "## Why\n",
    "- Lightweight, more stable and simplier\n",
    "<div>\n",
    "<img src=\"images/nozookeeper.gif\" width=\"200\"/>\n",
    "</div>"
   ]
  },
  {
   "cell_type": "markdown",
   "id": "790b9fb3",
   "metadata": {
    "slideshow": {
     "slide_type": "fragment"
    }
   },
   "source": [
    "## Difficulties\n",
    "- **KRaft** is still not widely adopted, hence infos on how to do set it up are scarce."
   ]
  },
  {
   "cell_type": "markdown",
   "id": "573ccd4c",
   "metadata": {
    "slideshow": {
     "slide_type": "slide"
    }
   },
   "source": [
    "# Spark\n",
    "**Spark** is the responsible of the data processing and enrichment.\n",
    "<br>\n",
    "In particular it applies a pretrained **Linear Regression** model on a vector of features that are: \n",
    "- open\n",
    "- close\n",
    "- low\n",
    "- high\n",
    "- volume\n",
    "\n",
    "\n",
    "to predict the **next close** value. \n",
    "<br><br>\n",
    "The model can be build from the **training** folder which contains both the code for **downloading the datasets** and **train the model**  "
   ]
  },
  {
   "cell_type": "markdown",
   "id": "787401db",
   "metadata": {
    "slideshow": {
     "slide_type": "subslide"
    }
   },
   "source": [
    "## Why\n",
    "- Allows to do **complex operations on Streaming Dataframes** in matter of seconds"
   ]
  },
  {
   "cell_type": "markdown",
   "id": "d6eee46b",
   "metadata": {
    "slideshow": {
     "slide_type": "fragment"
    }
   },
   "source": [
    "## Difficulties? Many\n",
    "- **No lag** function for streaming DataFrames\n",
    "- Crashes with **no error code**\n",
    "- Mapping to elastic search is a **great adventure**\n",
    "<div>\n",
    "<img src=\"images/sparkworking.gif\" width=\"300\"/>\n",
    "</div>"
   ]
  },
  {
   "cell_type": "markdown",
   "id": "1177db18",
   "metadata": {
    "slideshow": {
     "slide_type": "subslide"
    }
   },
   "source": [
    "<div>\n",
    "<img src=\"images/sparklag.png\" width=\"800\"/>\n",
    "</div>"
   ]
  },
  {
   "cell_type": "markdown",
   "id": "261a8285",
   "metadata": {
    "slideshow": {
     "slide_type": "slide"
    }
   },
   "source": [
    "# Elastic Search\n",
    "**Elastic Search** is the deposit where our processed data are stored into. "
   ]
  },
  {
   "cell_type": "markdown",
   "id": "76ea6324",
   "metadata": {
    "slideshow": {
     "slide_type": "fragment"
    }
   },
   "source": [
    "## Why\n",
    "- Perfect storage for **real-time** data\n",
    "- Easy to query with **kibana**\n",
    "<div>\n",
    "<img src=\"images/kibanaelastic.jpg\", width=\"300\">\n",
    "</div>"
   ]
  },
  {
   "cell_type": "markdown",
   "id": "22005b00",
   "metadata": {
    "slideshow": {
     "slide_type": "subslide"
    }
   },
   "source": [
    "# Difficulties\n",
    "- Although in a container it may behave differently based on the hardware. Hence it needs to be **properly configured \"ad-hoc\"**\n",
    "<div>\n",
    "<img src=\"images/elasticlogs.gif\", width=\"300\">\n",
    "</div>"
   ]
  },
  {
   "cell_type": "markdown",
   "id": "5969aba0",
   "metadata": {
    "slideshow": {
     "slide_type": "slide"
    }
   },
   "source": [
    "# Kibana\n",
    "**Kibana** was used to visualize the data stored in elastic-search with continuous refreshes for showing incoming **real-time** data."
   ]
  },
  {
   "cell_type": "markdown",
   "id": "22752291",
   "metadata": {
    "slideshow": {
     "slide_type": "subslide"
    }
   },
   "source": [
    "## Why\n",
    "- Ease of use"
   ]
  },
  {
   "cell_type": "markdown",
   "id": "1236ecef",
   "metadata": {
    "slideshow": {
     "slide_type": "fragment"
    }
   },
   "source": [
    "## Difficulties\n",
    "- Some problems reading **the timestamp**\n",
    "<div>\n",
    "<img src=\"images/kibanatime.gif\", width=\"300\">\n",
    "</div>"
   ]
  },
  {
   "cell_type": "markdown",
   "id": "120610f4",
   "metadata": {
    "slideshow": {
     "slide_type": "slide"
    }
   },
   "source": [
    "# The end\n",
    "Now let's try the project by creating a file containing our **API key** and start the services with **docker compose**."
   ]
  }
 ],
 "metadata": {
  "celltoolbar": "Slideshow",
  "kernelspec": {
   "display_name": "Python 3 (ipykernel)",
   "language": "python",
   "name": "python3"
  },
  "language_info": {
   "codemirror_mode": {
    "name": "ipython",
    "version": 3
   },
   "file_extension": ".py",
   "mimetype": "text/x-python",
   "name": "python",
   "nbconvert_exporter": "python",
   "pygments_lexer": "ipython3",
   "version": "3.9.13"
  }
 },
 "nbformat": 4,
 "nbformat_minor": 5
}
