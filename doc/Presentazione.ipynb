{
 "cells": [
  {
   "cell_type": "markdown",
   "id": "73281e42-c455-49fa-9582-5d24794e8238",
   "metadata": {
    "slideshow": {
     "slide_type": "slide"
    }
   },
   "source": [
    "# Stonks!\n",
    "## A realtime stocks analyzer.\n",
    "\n",
    "Coded by **Alfio Cardillo**\n",
    "<br>\n",
    "For the subject **\"Technologies for Advanced Programming\"**\n",
    "<br>\n",
    "University of **Catania**, Department of Mathematics and Computer Science. **13 June 2023**"
   ]
  },
  {
   "cell_type": "markdown",
   "id": "a0ea839d-50c7-4e50-bdfa-8ec1b182ef76",
   "metadata": {
    "slideshow": {
     "slide_type": "slide"
    }
   },
   "source": [
    "# What is it?\n",
    "This project consists in a realtime stocks analyzer of the three most valued stocks in the market right now. (June 2023). Which are Apple (AAPL), Alphabet (GOOGL) and Microsoft (MSFT).\n",
    "<br><br>\n",
    "\n",
    "<div style=\"display:flex;justify-content:space-between\">\n",
    "    <img style=\"margin:20;\" src=\"images/apple.png\" width=\"100\"/>\n",
    "    <img src=\"images/google.png\" width=\"100\"/>\n",
    "    <img src=\"images/microsoft.png\" width=\"100\"/>\n",
    "</div>\n",
    "   "
   ]
  },
  {
   "cell_type": "markdown",
   "id": "219795b8",
   "metadata": {
    "slideshow": {
     "slide_type": "slide"
    }
   },
   "source": [
    "# caio"
   ]
  }
 ],
 "metadata": {
  "celltoolbar": "Slideshow",
  "kernelspec": {
   "display_name": "Python 3 (ipykernel)",
   "language": "python",
   "name": "python3"
  },
  "language_info": {
   "codemirror_mode": {
    "name": "ipython",
    "version": 3
   },
   "file_extension": ".py",
   "mimetype": "text/x-python",
   "name": "python",
   "nbconvert_exporter": "python",
   "pygments_lexer": "ipython3",
   "version": "3.9.13"
  }
 },
 "nbformat": 4,
 "nbformat_minor": 5
}
